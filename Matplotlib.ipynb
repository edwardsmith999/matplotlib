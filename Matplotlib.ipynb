{
 "cells": [
  {
   "cell_type": "markdown",
   "metadata": {},
   "source": [
    "Introduction\n",
    "============="
   ]
  },
  {
   "cell_type": "markdown",
   "metadata": {},
   "source": [
    "An Example plot"
   ]
  },
  {
   "cell_type": "code",
   "execution_count": null,
   "metadata": {
    "collapsed": true
   },
   "outputs": [],
   "source": [
    "import numpy as np\n",
    "import matplotlib.pyplot as plt\n",
    "x = np.linspace(0, 2*np.pi, 100)\n",
    "y = np.sin(x)\n",
    "z = np.cos(x)\n",
    "plt.plot(x, y)\n",
    "plt.plot(x, z)\n",
    "plt.show()"
   ]
  },
  {
   "cell_type": "markdown",
   "metadata": {},
   "source": [
    "An Example plotting a histogram"
   ]
  },
  {
   "cell_type": "code",
   "execution_count": null,
   "metadata": {
    "collapsed": true
   },
   "outputs": [],
   "source": [
    "import numpy as np\n",
    "import matplotlib.pyplot as plt\n",
    "#10,000 Uniform random numbers\n",
    "x = np.random.random(10000)\n",
    "#10,000 Normally distributed random numbers\n",
    "y = np.random.randn(10000)\n",
    "#Plot both on a histogram with 50 bins\n",
    "plt.hist(y, 50)\n",
    "plt.hist(x, 50)\n",
    "plt.show()"
   ]
  },
  {
   "cell_type": "markdown",
   "metadata": {},
   "source": [
    "An Example plotting a 2D Array (matrix)"
   ]
  },
  {
   "cell_type": "code",
   "execution_count": null,
   "metadata": {
    "collapsed": true
   },
   "outputs": [],
   "source": [
    "import numpy as np\n",
    "import matplotlib.pyplot as plt\n",
    "N = 100\n",
    "x = np.linspace(0,2*np.pi,N)\n",
    "y = np.sin(x); z = np.cos(x)\n",
    "#Create 2D field from outer product of previous 1D functions\n",
    "noise = np.random.random(N**2)\n",
    "u = np.outer(y,z) + noise.reshape(N,N)\n",
    "plt.contourf(u, 40, cmap=plt.cm.RdYlBu_r)\n",
    "plt.colorbar()\n",
    "plt.show()"
   ]
  },
  {
   "cell_type": "markdown",
   "metadata": {},
   "source": [
    "More Advanced\n",
    "==============="
   ]
  },
  {
   "cell_type": "markdown",
   "metadata": {},
   "source": [
    "A Plot of Two Axes"
   ]
  },
  {
   "cell_type": "code",
   "execution_count": null,
   "metadata": {
    "collapsed": true
   },
   "outputs": [],
   "source": [
    "import numpy as np\n",
    "import matplotlib.pyplot as plt\n",
    "x = np.linspace(0, 2*np.pi, 100)\n",
    "y = np.sin(x)\n",
    "z = np.cos(x)\n",
    "fig, ax = plt.subplots(2,1)\n",
    "ax[0].plot(x, y)\n",
    "ax[1].plot(x, z)\n",
    "ax[1].set_xlabel(\"x axis\", fontsize=24)\n",
    "plt.show()"
   ]
  },
  {
   "cell_type": "markdown",
   "metadata": {},
   "source": [
    "A Plot of Two Axes with Labels and Styles"
   ]
  },
  {
   "cell_type": "code",
   "execution_count": null,
   "metadata": {
    "collapsed": true
   },
   "outputs": [],
   "source": [
    "import numpy as np\n",
    "import matplotlib.pyplot as plt\n",
    "x = np.linspace(0, 2*np.pi, 20)\n",
    "y = np.sin(x)\n",
    "z = np.cos(x)\n",
    "fig, ax = plt.subplots(2,1)\n",
    "ax[0].plot(x, y, lw=3., c='r')\n",
    "ax[1].plot(x, z, '--bs', alpha=0.5)\n",
    "ax[1].set_xlabel(\"$x$\", fontsize=24)\n",
    "ax[0].set_ylabel(\"$\\sin(x)$\", fontsize=24)\n",
    "ax[1].set_ylabel(\"$\\cos(x)$\", fontsize=24)\n",
    "plt.show()"
   ]
  },
  {
   "cell_type": "markdown",
   "metadata": {},
   "source": [
    "An Example with a legend"
   ]
  },
  {
   "cell_type": "code",
   "execution_count": null,
   "metadata": {
    "collapsed": true
   },
   "outputs": [],
   "source": [
    "import numpy as np\n",
    "import matplotlib.pyplot as plt\n",
    "#Get six values as a numpy array\n",
    "x = np.arange(6)\n",
    "#Plot with latex syntax\n",
    "plt.plot(x, x**2, \"-o\", label=\"$x^2$\")\n",
    "plt.plot(x, x**3, \"-s\", label=\"$x^3$\")\n",
    "plt.legend()\n",
    "plt.show()"
   ]
  },
  {
   "cell_type": "markdown",
   "metadata": {},
   "source": [
    "An Example using time series"
   ]
  },
  {
   "cell_type": "code",
   "execution_count": null,
   "metadata": {
    "collapsed": true
   },
   "outputs": [],
   "source": [
    "import numpy as np\n",
    "import matplotlib.pyplot as plt\n",
    "N = 1000000\n",
    "signal = np.cumsum(np.random.randn(N))\n",
    "plt.plot(signal); plt.show()\n",
    "plt.hist(signal, 100); plt.show()\n",
    "Fs = np.fft.fft(signal)**2\n",
    "plt.plot(Fs.real[:N/2], \".\")\n",
    "plt.xscale(\"log\"); plt.yscale(\"log\")\n",
    "plt.show()"
   ]
  },
  {
   "cell_type": "markdown",
   "metadata": {},
   "source": [
    "Three dimensional Plots"
   ]
  },
  {
   "cell_type": "code",
   "execution_count": null,
   "metadata": {
    "collapsed": true
   },
   "outputs": [],
   "source": [
    "import numpy as np\n",
    "import matplotlib.pyplot as plt\n",
    "from mpl_toolkits.mplot3d import Axes3D\n",
    "fig = plt.figure()\n",
    "ax = fig.add_subplot(111, projection='3d')\n",
    "x = np.linspace(0.,2*np.pi,100)\n",
    "ax.plot(x, np.cos(x), np.sin(x))\n",
    "plt.show()"
   ]
  },
  {
   "cell_type": "markdown",
   "metadata": {},
   "source": [
    "Curve Fitting with Scipy"
   ]
  },
  {
   "cell_type": "code",
   "execution_count": null,
   "metadata": {
    "collapsed": true
   },
   "outputs": [],
   "source": [
    "import numpy as np\n",
    "import matplotlib.pyplot as plt\n",
    "from scipy.optimize import curve_fit\n",
    "x = np.linspace(0, 4., 30)\n",
    "y = x + (2.*(np.random.random(30)-.5))\n",
    "plt.plot(x, y, 'ob')\n",
    "def linear(x, m, c):\n",
    "\"Define line function\"\n",
    "return m*x + c\n",
    "params, cov = curve_fit(linear, x, y)\n",
    "yf = linear(x, params[0], params[1])\n",
    "plt.plot(x, yf, 'r-')\n",
    "plt.show()"
   ]
  },
  {
   "cell_type": "code",
   "execution_count": null,
   "metadata": {
    "collapsed": true
   },
   "outputs": [],
   "source": []
  },
  {
   "cell_type": "code",
   "execution_count": null,
   "metadata": {
    "collapsed": true
   },
   "outputs": [],
   "source": []
  }
 ],
 "metadata": {
  "kernelspec": {
   "display_name": "Python 2",
   "language": "python",
   "name": "python2"
  },
  "language_info": {
   "codemirror_mode": {
    "name": "ipython",
    "version": 2
   },
   "file_extension": ".py",
   "mimetype": "text/x-python",
   "name": "python",
   "nbconvert_exporter": "python",
   "pygments_lexer": "ipython2",
   "version": "2.7.12"
  }
 },
 "nbformat": 4,
 "nbformat_minor": 2
}
